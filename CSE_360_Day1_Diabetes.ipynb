{
  "nbformat": 4,
  "nbformat_minor": 0,
  "metadata": {
    "colab": {
      "name": "CSE 360 - Day1 Diabetes.ipynb",
      "provenance": [],
      "collapsed_sections": []
    },
    "kernelspec": {
      "name": "python3",
      "display_name": "Python 3"
    },
    "language_info": {
      "name": "python"
    },
    "accelerator": "GPU"
  },
  "cells": [
    {
      "cell_type": "code",
      "execution_count": null,
      "metadata": {
        "colab": {
          "base_uri": "https://localhost:8080/"
        },
        "id": "-53YI_cvBqyC",
        "outputId": "8303512b-ee50-460c-f549-ea40ac824b12"
      },
      "outputs": [
        {
          "output_type": "stream",
          "name": "stdout",
          "text": [
            "Mounted at /content/drive\n"
          ]
        }
      ],
      "source": [
        "from google.colab import drive\n",
        "drive.mount('/content/drive')"
      ]
    },
    {
      "cell_type": "code",
      "source": [
        "#import the libraries \n",
        "import pandas as pd\n",
        "import numpy as np\n",
        "import tensorflow as tf\n",
        "from tensorflow import keras \n",
        "from keras.models import Sequential \n",
        "from keras.layers import Dense\n",
        "from sklearn.model_selection import train_test_split"
      ],
      "metadata": {
        "id": "IuJ0K-JFCayR"
      },
      "execution_count": null,
      "outputs": []
    },
    {
      "cell_type": "code",
      "source": [
        "data = pd.read_csv(\"/content/drive/MyDrive/CSE 360 - Deep Learning/Datasets/diabetes.csv\")\n",
        "data.head(5)"
      ],
      "metadata": {
        "colab": {
          "base_uri": "https://localhost:8080/",
          "height": 206
        },
        "id": "wWvLLjL3DDH0",
        "outputId": "47dd6190-8f0c-430c-c3db-cc2fde6cf39a"
      },
      "execution_count": null,
      "outputs": [
        {
          "output_type": "execute_result",
          "data": {
            "text/html": [
              "\n",
              "  <div id=\"df-c608e634-b4d6-4c2c-a776-04d412119b09\">\n",
              "    <div class=\"colab-df-container\">\n",
              "      <div>\n",
              "<style scoped>\n",
              "    .dataframe tbody tr th:only-of-type {\n",
              "        vertical-align: middle;\n",
              "    }\n",
              "\n",
              "    .dataframe tbody tr th {\n",
              "        vertical-align: top;\n",
              "    }\n",
              "\n",
              "    .dataframe thead th {\n",
              "        text-align: right;\n",
              "    }\n",
              "</style>\n",
              "<table border=\"1\" class=\"dataframe\">\n",
              "  <thead>\n",
              "    <tr style=\"text-align: right;\">\n",
              "      <th></th>\n",
              "      <th>Pregnancies</th>\n",
              "      <th>Glucose</th>\n",
              "      <th>BloodPressure</th>\n",
              "      <th>SkinThickness</th>\n",
              "      <th>Insulin</th>\n",
              "      <th>BMI</th>\n",
              "      <th>DiabetesPedigreeFunction</th>\n",
              "      <th>Age</th>\n",
              "      <th>Outcome</th>\n",
              "    </tr>\n",
              "  </thead>\n",
              "  <tbody>\n",
              "    <tr>\n",
              "      <th>0</th>\n",
              "      <td>6</td>\n",
              "      <td>148</td>\n",
              "      <td>72</td>\n",
              "      <td>35</td>\n",
              "      <td>0</td>\n",
              "      <td>33.6</td>\n",
              "      <td>0.627</td>\n",
              "      <td>50</td>\n",
              "      <td>1</td>\n",
              "    </tr>\n",
              "    <tr>\n",
              "      <th>1</th>\n",
              "      <td>1</td>\n",
              "      <td>85</td>\n",
              "      <td>66</td>\n",
              "      <td>29</td>\n",
              "      <td>0</td>\n",
              "      <td>26.6</td>\n",
              "      <td>0.351</td>\n",
              "      <td>31</td>\n",
              "      <td>0</td>\n",
              "    </tr>\n",
              "    <tr>\n",
              "      <th>2</th>\n",
              "      <td>8</td>\n",
              "      <td>183</td>\n",
              "      <td>64</td>\n",
              "      <td>0</td>\n",
              "      <td>0</td>\n",
              "      <td>23.3</td>\n",
              "      <td>0.672</td>\n",
              "      <td>32</td>\n",
              "      <td>1</td>\n",
              "    </tr>\n",
              "    <tr>\n",
              "      <th>3</th>\n",
              "      <td>1</td>\n",
              "      <td>89</td>\n",
              "      <td>66</td>\n",
              "      <td>23</td>\n",
              "      <td>94</td>\n",
              "      <td>28.1</td>\n",
              "      <td>0.167</td>\n",
              "      <td>21</td>\n",
              "      <td>0</td>\n",
              "    </tr>\n",
              "    <tr>\n",
              "      <th>4</th>\n",
              "      <td>0</td>\n",
              "      <td>137</td>\n",
              "      <td>40</td>\n",
              "      <td>35</td>\n",
              "      <td>168</td>\n",
              "      <td>43.1</td>\n",
              "      <td>2.288</td>\n",
              "      <td>33</td>\n",
              "      <td>1</td>\n",
              "    </tr>\n",
              "  </tbody>\n",
              "</table>\n",
              "</div>\n",
              "      <button class=\"colab-df-convert\" onclick=\"convertToInteractive('df-c608e634-b4d6-4c2c-a776-04d412119b09')\"\n",
              "              title=\"Convert this dataframe to an interactive table.\"\n",
              "              style=\"display:none;\">\n",
              "        \n",
              "  <svg xmlns=\"http://www.w3.org/2000/svg\" height=\"24px\"viewBox=\"0 0 24 24\"\n",
              "       width=\"24px\">\n",
              "    <path d=\"M0 0h24v24H0V0z\" fill=\"none\"/>\n",
              "    <path d=\"M18.56 5.44l.94 2.06.94-2.06 2.06-.94-2.06-.94-.94-2.06-.94 2.06-2.06.94zm-11 1L8.5 8.5l.94-2.06 2.06-.94-2.06-.94L8.5 2.5l-.94 2.06-2.06.94zm10 10l.94 2.06.94-2.06 2.06-.94-2.06-.94-.94-2.06-.94 2.06-2.06.94z\"/><path d=\"M17.41 7.96l-1.37-1.37c-.4-.4-.92-.59-1.43-.59-.52 0-1.04.2-1.43.59L10.3 9.45l-7.72 7.72c-.78.78-.78 2.05 0 2.83L4 21.41c.39.39.9.59 1.41.59.51 0 1.02-.2 1.41-.59l7.78-7.78 2.81-2.81c.8-.78.8-2.07 0-2.86zM5.41 20L4 18.59l7.72-7.72 1.47 1.35L5.41 20z\"/>\n",
              "  </svg>\n",
              "      </button>\n",
              "      \n",
              "  <style>\n",
              "    .colab-df-container {\n",
              "      display:flex;\n",
              "      flex-wrap:wrap;\n",
              "      gap: 12px;\n",
              "    }\n",
              "\n",
              "    .colab-df-convert {\n",
              "      background-color: #E8F0FE;\n",
              "      border: none;\n",
              "      border-radius: 50%;\n",
              "      cursor: pointer;\n",
              "      display: none;\n",
              "      fill: #1967D2;\n",
              "      height: 32px;\n",
              "      padding: 0 0 0 0;\n",
              "      width: 32px;\n",
              "    }\n",
              "\n",
              "    .colab-df-convert:hover {\n",
              "      background-color: #E2EBFA;\n",
              "      box-shadow: 0px 1px 2px rgba(60, 64, 67, 0.3), 0px 1px 3px 1px rgba(60, 64, 67, 0.15);\n",
              "      fill: #174EA6;\n",
              "    }\n",
              "\n",
              "    [theme=dark] .colab-df-convert {\n",
              "      background-color: #3B4455;\n",
              "      fill: #D2E3FC;\n",
              "    }\n",
              "\n",
              "    [theme=dark] .colab-df-convert:hover {\n",
              "      background-color: #434B5C;\n",
              "      box-shadow: 0px 1px 3px 1px rgba(0, 0, 0, 0.15);\n",
              "      filter: drop-shadow(0px 1px 2px rgba(0, 0, 0, 0.3));\n",
              "      fill: #FFFFFF;\n",
              "    }\n",
              "  </style>\n",
              "\n",
              "      <script>\n",
              "        const buttonEl =\n",
              "          document.querySelector('#df-c608e634-b4d6-4c2c-a776-04d412119b09 button.colab-df-convert');\n",
              "        buttonEl.style.display =\n",
              "          google.colab.kernel.accessAllowed ? 'block' : 'none';\n",
              "\n",
              "        async function convertToInteractive(key) {\n",
              "          const element = document.querySelector('#df-c608e634-b4d6-4c2c-a776-04d412119b09');\n",
              "          const dataTable =\n",
              "            await google.colab.kernel.invokeFunction('convertToInteractive',\n",
              "                                                     [key], {});\n",
              "          if (!dataTable) return;\n",
              "\n",
              "          const docLinkHtml = 'Like what you see? Visit the ' +\n",
              "            '<a target=\"_blank\" href=https://colab.research.google.com/notebooks/data_table.ipynb>data table notebook</a>'\n",
              "            + ' to learn more about interactive tables.';\n",
              "          element.innerHTML = '';\n",
              "          dataTable['output_type'] = 'display_data';\n",
              "          await google.colab.output.renderOutput(dataTable, element);\n",
              "          const docLink = document.createElement('div');\n",
              "          docLink.innerHTML = docLinkHtml;\n",
              "          element.appendChild(docLink);\n",
              "        }\n",
              "      </script>\n",
              "    </div>\n",
              "  </div>\n",
              "  "
            ],
            "text/plain": [
              "   Pregnancies  Glucose  BloodPressure  ...  DiabetesPedigreeFunction  Age  Outcome\n",
              "0            6      148             72  ...                     0.627   50        1\n",
              "1            1       85             66  ...                     0.351   31        0\n",
              "2            8      183             64  ...                     0.672   32        1\n",
              "3            1       89             66  ...                     0.167   21        0\n",
              "4            0      137             40  ...                     2.288   33        1\n",
              "\n",
              "[5 rows x 9 columns]"
            ]
          },
          "metadata": {},
          "execution_count": 4
        }
      ]
    },
    {
      "cell_type": "code",
      "source": [
        "print(data.shape)"
      ],
      "metadata": {
        "colab": {
          "base_uri": "https://localhost:8080/"
        },
        "id": "IKVhr7xiFHmo",
        "outputId": "94b07fed-ba40-4764-8a28-daf424594156"
      },
      "execution_count": null,
      "outputs": [
        {
          "output_type": "stream",
          "name": "stdout",
          "text": [
            "(768, 9)\n"
          ]
        }
      ]
    },
    {
      "cell_type": "code",
      "source": [
        "X = data.iloc[:,:-1]\n",
        "y = data.iloc[:,-1]\n",
        "print(X.shape)\n",
        "print(y.shape)"
      ],
      "metadata": {
        "colab": {
          "base_uri": "https://localhost:8080/"
        },
        "id": "RhdX6h4lEpd2",
        "outputId": "fd5e88e1-30bb-4c4f-94a5-c4d0e07a07f1"
      },
      "execution_count": null,
      "outputs": [
        {
          "output_type": "stream",
          "name": "stdout",
          "text": [
            "(768, 8)\n",
            "(768,)\n"
          ]
        }
      ]
    },
    {
      "cell_type": "code",
      "source": [
        "x_train,x_test,y_train,y_test = train_test_split(X,y,test_size = 0.2)"
      ],
      "metadata": {
        "id": "qv_VRQnqTg2a"
      },
      "execution_count": null,
      "outputs": []
    },
    {
      "cell_type": "code",
      "source": [
        "print(x_train.shape)\n",
        "print(y_train.shape)"
      ],
      "metadata": {
        "colab": {
          "base_uri": "https://localhost:8080/"
        },
        "id": "SBcePeBLT06x",
        "outputId": "b8e5a7ee-6d38-416e-c27e-62373e663489"
      },
      "execution_count": null,
      "outputs": [
        {
          "output_type": "stream",
          "name": "stdout",
          "text": [
            "(614, 8)\n",
            "(614,)\n"
          ]
        }
      ]
    },
    {
      "cell_type": "code",
      "source": [
        "#model build\n",
        "model = tf.keras.Sequential([                         \n",
        "    tf.keras.layers.Dense(256,input_dim = 8,activation='relu'),\n",
        "    tf.keras.layers.Dense(128,activation='relu'),\n",
        "    tf.keras.layers.Dense(64,activation='relu'),\n",
        "    tf.keras.layers.Dense(1,activation='sigmoid')\n",
        "])"
      ],
      "metadata": {
        "id": "R1C0eQ5NF5Cx"
      },
      "execution_count": null,
      "outputs": []
    },
    {
      "cell_type": "code",
      "source": [
        "#compile model\n",
        "model.compile(optimizer='Adadelta',\n",
        "              loss='binary_crossentropy',\n",
        "              metrics=['accuracy'])"
      ],
      "metadata": {
        "id": "LK3jX8xGIkIt"
      },
      "execution_count": null,
      "outputs": []
    },
    {
      "cell_type": "code",
      "source": [
        "model.summary()"
      ],
      "metadata": {
        "colab": {
          "base_uri": "https://localhost:8080/"
        },
        "id": "ygG48CbePu3M",
        "outputId": "ecb90064-491e-4ea2-befc-cc1115c77ad9"
      },
      "execution_count": null,
      "outputs": [
        {
          "output_type": "stream",
          "name": "stdout",
          "text": [
            "Model: \"sequential_12\"\n",
            "_________________________________________________________________\n",
            " Layer (type)                Output Shape              Param #   \n",
            "=================================================================\n",
            " dense_39 (Dense)            (None, 256)               2304      \n",
            "                                                                 \n",
            " dense_40 (Dense)            (None, 128)               32896     \n",
            "                                                                 \n",
            " dense_41 (Dense)            (None, 64)                8256      \n",
            "                                                                 \n",
            " dense_42 (Dense)            (None, 1)                 65        \n",
            "                                                                 \n",
            "=================================================================\n",
            "Total params: 43,521\n",
            "Trainable params: 43,521\n",
            "Non-trainable params: 0\n",
            "_________________________________________________________________\n"
          ]
        }
      ]
    },
    {
      "cell_type": "code",
      "source": [
        "#fit the model\n",
        "model.fit(x_train,y_train,epochs=150,batch_size=16)"
      ],
      "metadata": {
        "colab": {
          "base_uri": "https://localhost:8080/"
        },
        "id": "t0utorqqJFOe",
        "outputId": "5a916393-f25d-4c1a-881f-14b6de66c653"
      },
      "execution_count": null,
      "outputs": [
        {
          "output_type": "stream",
          "name": "stdout",
          "text": [
            "Epoch 1/150\n",
            "39/39 [==============================] - 1s 4ms/step - loss: 2.0584 - accuracy: 0.6482\n",
            "Epoch 2/150\n",
            "39/39 [==============================] - 0s 4ms/step - loss: 1.8457 - accuracy: 0.6498\n",
            "Epoch 3/150\n",
            "39/39 [==============================] - 0s 4ms/step - loss: 1.6441 - accuracy: 0.6498\n",
            "Epoch 4/150\n",
            "39/39 [==============================] - 0s 4ms/step - loss: 1.4521 - accuracy: 0.6515\n",
            "Epoch 5/150\n",
            "39/39 [==============================] - 0s 4ms/step - loss: 1.2822 - accuracy: 0.6547\n",
            "Epoch 6/150\n",
            "39/39 [==============================] - 0s 4ms/step - loss: 1.1435 - accuracy: 0.6645\n",
            "Epoch 7/150\n",
            "39/39 [==============================] - 0s 4ms/step - loss: 1.0333 - accuracy: 0.6710\n",
            "Epoch 8/150\n",
            "39/39 [==============================] - 0s 4ms/step - loss: 0.9447 - accuracy: 0.6743\n",
            "Epoch 9/150\n",
            "39/39 [==============================] - 0s 4ms/step - loss: 0.8781 - accuracy: 0.6726\n",
            "Epoch 10/150\n",
            "39/39 [==============================] - 0s 4ms/step - loss: 0.8268 - accuracy: 0.6726\n",
            "Epoch 11/150\n",
            "39/39 [==============================] - 0s 4ms/step - loss: 0.7874 - accuracy: 0.6743\n",
            "Epoch 12/150\n",
            "39/39 [==============================] - 0s 4ms/step - loss: 0.7595 - accuracy: 0.6808\n",
            "Epoch 13/150\n",
            "39/39 [==============================] - 0s 4ms/step - loss: 0.7373 - accuracy: 0.6808\n",
            "Epoch 14/150\n",
            "39/39 [==============================] - 0s 4ms/step - loss: 0.7211 - accuracy: 0.6775\n",
            "Epoch 15/150\n",
            "39/39 [==============================] - 0s 4ms/step - loss: 0.7097 - accuracy: 0.6792\n",
            "Epoch 16/150\n",
            "39/39 [==============================] - 0s 4ms/step - loss: 0.7003 - accuracy: 0.6840\n",
            "Epoch 17/150\n",
            "39/39 [==============================] - 0s 4ms/step - loss: 0.6935 - accuracy: 0.6922\n",
            "Epoch 18/150\n",
            "39/39 [==============================] - 0s 4ms/step - loss: 0.6875 - accuracy: 0.6922\n",
            "Epoch 19/150\n",
            "39/39 [==============================] - 0s 4ms/step - loss: 0.6829 - accuracy: 0.6987\n",
            "Epoch 20/150\n",
            "39/39 [==============================] - 0s 4ms/step - loss: 0.6794 - accuracy: 0.6971\n",
            "Epoch 21/150\n",
            "39/39 [==============================] - 0s 4ms/step - loss: 0.6759 - accuracy: 0.7036\n",
            "Epoch 22/150\n",
            "39/39 [==============================] - 0s 4ms/step - loss: 0.6731 - accuracy: 0.7036\n",
            "Epoch 23/150\n",
            "39/39 [==============================] - 0s 4ms/step - loss: 0.6705 - accuracy: 0.7036\n",
            "Epoch 24/150\n",
            "39/39 [==============================] - 0s 4ms/step - loss: 0.6687 - accuracy: 0.7020\n",
            "Epoch 25/150\n",
            "39/39 [==============================] - 0s 4ms/step - loss: 0.6661 - accuracy: 0.7052\n",
            "Epoch 26/150\n",
            "39/39 [==============================] - 0s 4ms/step - loss: 0.6643 - accuracy: 0.7085\n",
            "Epoch 27/150\n",
            "39/39 [==============================] - 0s 4ms/step - loss: 0.6622 - accuracy: 0.7052\n",
            "Epoch 28/150\n",
            "39/39 [==============================] - 0s 4ms/step - loss: 0.6601 - accuracy: 0.7085\n",
            "Epoch 29/150\n",
            "39/39 [==============================] - 0s 4ms/step - loss: 0.6585 - accuracy: 0.7068\n",
            "Epoch 30/150\n",
            "39/39 [==============================] - 0s 3ms/step - loss: 0.6564 - accuracy: 0.7085\n",
            "Epoch 31/150\n",
            "39/39 [==============================] - 0s 4ms/step - loss: 0.6548 - accuracy: 0.7085\n",
            "Epoch 32/150\n",
            "39/39 [==============================] - 0s 4ms/step - loss: 0.6528 - accuracy: 0.7101\n",
            "Epoch 33/150\n",
            "39/39 [==============================] - 0s 4ms/step - loss: 0.6514 - accuracy: 0.7068\n",
            "Epoch 34/150\n",
            "39/39 [==============================] - 0s 4ms/step - loss: 0.6497 - accuracy: 0.7085\n",
            "Epoch 35/150\n",
            "39/39 [==============================] - 0s 4ms/step - loss: 0.6480 - accuracy: 0.7036\n",
            "Epoch 36/150\n",
            "39/39 [==============================] - 0s 4ms/step - loss: 0.6467 - accuracy: 0.7036\n",
            "Epoch 37/150\n",
            "39/39 [==============================] - 0s 4ms/step - loss: 0.6450 - accuracy: 0.7052\n",
            "Epoch 38/150\n",
            "39/39 [==============================] - 0s 4ms/step - loss: 0.6436 - accuracy: 0.7020\n",
            "Epoch 39/150\n",
            "39/39 [==============================] - 0s 4ms/step - loss: 0.6424 - accuracy: 0.7036\n",
            "Epoch 40/150\n",
            "39/39 [==============================] - 0s 3ms/step - loss: 0.6407 - accuracy: 0.7052\n",
            "Epoch 41/150\n",
            "39/39 [==============================] - 0s 3ms/step - loss: 0.6395 - accuracy: 0.7020\n",
            "Epoch 42/150\n",
            "39/39 [==============================] - 0s 4ms/step - loss: 0.6383 - accuracy: 0.7020\n",
            "Epoch 43/150\n",
            "39/39 [==============================] - 0s 4ms/step - loss: 0.6369 - accuracy: 0.6987\n",
            "Epoch 44/150\n",
            "39/39 [==============================] - 0s 4ms/step - loss: 0.6356 - accuracy: 0.7036\n",
            "Epoch 45/150\n",
            "39/39 [==============================] - 0s 4ms/step - loss: 0.6348 - accuracy: 0.6987\n",
            "Epoch 46/150\n",
            "39/39 [==============================] - 0s 4ms/step - loss: 0.6334 - accuracy: 0.7003\n",
            "Epoch 47/150\n",
            "39/39 [==============================] - 0s 3ms/step - loss: 0.6323 - accuracy: 0.7003\n",
            "Epoch 48/150\n",
            "39/39 [==============================] - 0s 4ms/step - loss: 0.6313 - accuracy: 0.7020\n",
            "Epoch 49/150\n",
            "39/39 [==============================] - 0s 3ms/step - loss: 0.6302 - accuracy: 0.6971\n",
            "Epoch 50/150\n",
            "39/39 [==============================] - 0s 4ms/step - loss: 0.6289 - accuracy: 0.6971\n",
            "Epoch 51/150\n",
            "39/39 [==============================] - 0s 4ms/step - loss: 0.6277 - accuracy: 0.7052\n",
            "Epoch 52/150\n",
            "39/39 [==============================] - 0s 4ms/step - loss: 0.6266 - accuracy: 0.6987\n",
            "Epoch 53/150\n",
            "39/39 [==============================] - 0s 4ms/step - loss: 0.6261 - accuracy: 0.7036\n",
            "Epoch 54/150\n",
            "39/39 [==============================] - 0s 4ms/step - loss: 0.6248 - accuracy: 0.7036\n",
            "Epoch 55/150\n",
            "39/39 [==============================] - 0s 3ms/step - loss: 0.6237 - accuracy: 0.7003\n",
            "Epoch 56/150\n",
            "39/39 [==============================] - 0s 4ms/step - loss: 0.6229 - accuracy: 0.7003\n",
            "Epoch 57/150\n",
            "39/39 [==============================] - 0s 4ms/step - loss: 0.6220 - accuracy: 0.7020\n",
            "Epoch 58/150\n",
            "39/39 [==============================] - 0s 4ms/step - loss: 0.6212 - accuracy: 0.7003\n",
            "Epoch 59/150\n",
            "39/39 [==============================] - 0s 4ms/step - loss: 0.6206 - accuracy: 0.7003\n",
            "Epoch 60/150\n",
            "39/39 [==============================] - 0s 4ms/step - loss: 0.6193 - accuracy: 0.7020\n",
            "Epoch 61/150\n",
            "39/39 [==============================] - 0s 4ms/step - loss: 0.6187 - accuracy: 0.7036\n",
            "Epoch 62/150\n",
            "39/39 [==============================] - 0s 4ms/step - loss: 0.6178 - accuracy: 0.6938\n",
            "Epoch 63/150\n",
            "39/39 [==============================] - 0s 4ms/step - loss: 0.6166 - accuracy: 0.7052\n",
            "Epoch 64/150\n",
            "39/39 [==============================] - 0s 4ms/step - loss: 0.6159 - accuracy: 0.6971\n",
            "Epoch 65/150\n",
            "39/39 [==============================] - 0s 4ms/step - loss: 0.6151 - accuracy: 0.7003\n",
            "Epoch 66/150\n",
            "39/39 [==============================] - 0s 4ms/step - loss: 0.6142 - accuracy: 0.6971\n",
            "Epoch 67/150\n",
            "39/39 [==============================] - 0s 4ms/step - loss: 0.6136 - accuracy: 0.6987\n",
            "Epoch 68/150\n",
            "39/39 [==============================] - 0s 4ms/step - loss: 0.6129 - accuracy: 0.6971\n",
            "Epoch 69/150\n",
            "39/39 [==============================] - 0s 4ms/step - loss: 0.6122 - accuracy: 0.7003\n",
            "Epoch 70/150\n",
            "39/39 [==============================] - 0s 4ms/step - loss: 0.6113 - accuracy: 0.6971\n",
            "Epoch 71/150\n",
            "39/39 [==============================] - 0s 4ms/step - loss: 0.6108 - accuracy: 0.6954\n",
            "Epoch 72/150\n",
            "39/39 [==============================] - 0s 4ms/step - loss: 0.6097 - accuracy: 0.6938\n",
            "Epoch 73/150\n",
            "39/39 [==============================] - 0s 4ms/step - loss: 0.6091 - accuracy: 0.7003\n",
            "Epoch 74/150\n",
            "39/39 [==============================] - 0s 4ms/step - loss: 0.6086 - accuracy: 0.6938\n",
            "Epoch 75/150\n",
            "39/39 [==============================] - 0s 4ms/step - loss: 0.6076 - accuracy: 0.6938\n",
            "Epoch 76/150\n",
            "39/39 [==============================] - 0s 4ms/step - loss: 0.6067 - accuracy: 0.6922\n",
            "Epoch 77/150\n",
            "39/39 [==============================] - 0s 4ms/step - loss: 0.6061 - accuracy: 0.7003\n",
            "Epoch 78/150\n",
            "39/39 [==============================] - 0s 4ms/step - loss: 0.6056 - accuracy: 0.7003\n",
            "Epoch 79/150\n",
            "39/39 [==============================] - 0s 4ms/step - loss: 0.6047 - accuracy: 0.6954\n",
            "Epoch 80/150\n",
            "39/39 [==============================] - 0s 4ms/step - loss: 0.6040 - accuracy: 0.7003\n",
            "Epoch 81/150\n",
            "39/39 [==============================] - 0s 4ms/step - loss: 0.6034 - accuracy: 0.6987\n",
            "Epoch 82/150\n",
            "39/39 [==============================] - 0s 4ms/step - loss: 0.6027 - accuracy: 0.7003\n",
            "Epoch 83/150\n",
            "39/39 [==============================] - 0s 4ms/step - loss: 0.6020 - accuracy: 0.6954\n",
            "Epoch 84/150\n",
            "39/39 [==============================] - 0s 4ms/step - loss: 0.6014 - accuracy: 0.6971\n",
            "Epoch 85/150\n",
            "39/39 [==============================] - 0s 4ms/step - loss: 0.6007 - accuracy: 0.6971\n",
            "Epoch 86/150\n",
            "39/39 [==============================] - 0s 4ms/step - loss: 0.5999 - accuracy: 0.7020\n",
            "Epoch 87/150\n",
            "39/39 [==============================] - 0s 4ms/step - loss: 0.5991 - accuracy: 0.6954\n",
            "Epoch 88/150\n",
            "39/39 [==============================] - 0s 4ms/step - loss: 0.5987 - accuracy: 0.6987\n",
            "Epoch 89/150\n",
            "39/39 [==============================] - 0s 4ms/step - loss: 0.5981 - accuracy: 0.6987\n",
            "Epoch 90/150\n",
            "39/39 [==============================] - 0s 4ms/step - loss: 0.5975 - accuracy: 0.7036\n",
            "Epoch 91/150\n",
            "39/39 [==============================] - 0s 4ms/step - loss: 0.5966 - accuracy: 0.6987\n",
            "Epoch 92/150\n",
            "39/39 [==============================] - 0s 4ms/step - loss: 0.5963 - accuracy: 0.6938\n",
            "Epoch 93/150\n",
            "39/39 [==============================] - 0s 4ms/step - loss: 0.5957 - accuracy: 0.6971\n",
            "Epoch 94/150\n",
            "39/39 [==============================] - 0s 4ms/step - loss: 0.5948 - accuracy: 0.6987\n",
            "Epoch 95/150\n",
            "39/39 [==============================] - 0s 4ms/step - loss: 0.5945 - accuracy: 0.6971\n",
            "Epoch 96/150\n",
            "39/39 [==============================] - 0s 4ms/step - loss: 0.5940 - accuracy: 0.7003\n",
            "Epoch 97/150\n",
            "39/39 [==============================] - 0s 4ms/step - loss: 0.5934 - accuracy: 0.6987\n",
            "Epoch 98/150\n",
            "39/39 [==============================] - 0s 4ms/step - loss: 0.5935 - accuracy: 0.6987\n",
            "Epoch 99/150\n",
            "39/39 [==============================] - 0s 4ms/step - loss: 0.5923 - accuracy: 0.6987\n",
            "Epoch 100/150\n",
            "39/39 [==============================] - 0s 4ms/step - loss: 0.5918 - accuracy: 0.7003\n",
            "Epoch 101/150\n",
            "39/39 [==============================] - 0s 4ms/step - loss: 0.5913 - accuracy: 0.7003\n",
            "Epoch 102/150\n",
            "39/39 [==============================] - 0s 4ms/step - loss: 0.5908 - accuracy: 0.6954\n",
            "Epoch 103/150\n",
            "39/39 [==============================] - 0s 4ms/step - loss: 0.5901 - accuracy: 0.7020\n",
            "Epoch 104/150\n",
            "39/39 [==============================] - 0s 4ms/step - loss: 0.5898 - accuracy: 0.7052\n",
            "Epoch 105/150\n",
            "39/39 [==============================] - 0s 4ms/step - loss: 0.5891 - accuracy: 0.6954\n",
            "Epoch 106/150\n",
            "39/39 [==============================] - 0s 4ms/step - loss: 0.5890 - accuracy: 0.7052\n",
            "Epoch 107/150\n",
            "39/39 [==============================] - 0s 4ms/step - loss: 0.5887 - accuracy: 0.7085\n",
            "Epoch 108/150\n",
            "39/39 [==============================] - 0s 4ms/step - loss: 0.5880 - accuracy: 0.6987\n",
            "Epoch 109/150\n",
            "39/39 [==============================] - 0s 4ms/step - loss: 0.5877 - accuracy: 0.7052\n",
            "Epoch 110/150\n",
            "39/39 [==============================] - 0s 4ms/step - loss: 0.5876 - accuracy: 0.7068\n",
            "Epoch 111/150\n",
            "39/39 [==============================] - 0s 4ms/step - loss: 0.5871 - accuracy: 0.6987\n",
            "Epoch 112/150\n",
            "39/39 [==============================] - 0s 4ms/step - loss: 0.5864 - accuracy: 0.7003\n",
            "Epoch 113/150\n",
            "39/39 [==============================] - 0s 4ms/step - loss: 0.5862 - accuracy: 0.7085\n",
            "Epoch 114/150\n",
            "39/39 [==============================] - 0s 4ms/step - loss: 0.5859 - accuracy: 0.6954\n",
            "Epoch 115/150\n",
            "39/39 [==============================] - 0s 4ms/step - loss: 0.5857 - accuracy: 0.7068\n",
            "Epoch 116/150\n",
            "39/39 [==============================] - 0s 4ms/step - loss: 0.5852 - accuracy: 0.7068\n",
            "Epoch 117/150\n",
            "39/39 [==============================] - 0s 4ms/step - loss: 0.5849 - accuracy: 0.6987\n",
            "Epoch 118/150\n",
            "39/39 [==============================] - 0s 4ms/step - loss: 0.5844 - accuracy: 0.7020\n",
            "Epoch 119/150\n",
            "39/39 [==============================] - 0s 4ms/step - loss: 0.5844 - accuracy: 0.7052\n",
            "Epoch 120/150\n",
            "39/39 [==============================] - 0s 4ms/step - loss: 0.5837 - accuracy: 0.6971\n",
            "Epoch 121/150\n",
            "39/39 [==============================] - 0s 4ms/step - loss: 0.5835 - accuracy: 0.7036\n",
            "Epoch 122/150\n",
            "39/39 [==============================] - 0s 4ms/step - loss: 0.5833 - accuracy: 0.7020\n",
            "Epoch 123/150\n",
            "39/39 [==============================] - 0s 4ms/step - loss: 0.5831 - accuracy: 0.7101\n",
            "Epoch 124/150\n",
            "39/39 [==============================] - 0s 4ms/step - loss: 0.5827 - accuracy: 0.7085\n",
            "Epoch 125/150\n",
            "39/39 [==============================] - 0s 4ms/step - loss: 0.5826 - accuracy: 0.7085\n",
            "Epoch 126/150\n",
            "39/39 [==============================] - 0s 3ms/step - loss: 0.5821 - accuracy: 0.7101\n",
            "Epoch 127/150\n",
            "39/39 [==============================] - 0s 4ms/step - loss: 0.5817 - accuracy: 0.7117\n",
            "Epoch 128/150\n",
            "39/39 [==============================] - 0s 4ms/step - loss: 0.5821 - accuracy: 0.7068\n",
            "Epoch 129/150\n",
            "39/39 [==============================] - 0s 4ms/step - loss: 0.5812 - accuracy: 0.7068\n",
            "Epoch 130/150\n",
            "39/39 [==============================] - 0s 4ms/step - loss: 0.5809 - accuracy: 0.7117\n",
            "Epoch 131/150\n",
            "39/39 [==============================] - 0s 4ms/step - loss: 0.5808 - accuracy: 0.7085\n",
            "Epoch 132/150\n",
            "39/39 [==============================] - 0s 4ms/step - loss: 0.5807 - accuracy: 0.6987\n",
            "Epoch 133/150\n",
            "39/39 [==============================] - 0s 4ms/step - loss: 0.5804 - accuracy: 0.7068\n",
            "Epoch 134/150\n",
            "39/39 [==============================] - 0s 4ms/step - loss: 0.5800 - accuracy: 0.6971\n",
            "Epoch 135/150\n",
            "39/39 [==============================] - 0s 4ms/step - loss: 0.5796 - accuracy: 0.7117\n",
            "Epoch 136/150\n",
            "39/39 [==============================] - 0s 4ms/step - loss: 0.5795 - accuracy: 0.7117\n",
            "Epoch 137/150\n",
            "39/39 [==============================] - 0s 4ms/step - loss: 0.5794 - accuracy: 0.7085\n",
            "Epoch 138/150\n",
            "39/39 [==============================] - 0s 4ms/step - loss: 0.5790 - accuracy: 0.7068\n",
            "Epoch 139/150\n",
            "39/39 [==============================] - 0s 4ms/step - loss: 0.5788 - accuracy: 0.7085\n",
            "Epoch 140/150\n",
            "39/39 [==============================] - 0s 4ms/step - loss: 0.5783 - accuracy: 0.7134\n",
            "Epoch 141/150\n",
            "39/39 [==============================] - 0s 4ms/step - loss: 0.5782 - accuracy: 0.7166\n",
            "Epoch 142/150\n",
            "39/39 [==============================] - 0s 7ms/step - loss: 0.5781 - accuracy: 0.7117\n",
            "Epoch 143/150\n",
            "39/39 [==============================] - 0s 8ms/step - loss: 0.5776 - accuracy: 0.7085\n",
            "Epoch 144/150\n",
            "39/39 [==============================] - 0s 5ms/step - loss: 0.5772 - accuracy: 0.7052\n",
            "Epoch 145/150\n",
            "39/39 [==============================] - 0s 4ms/step - loss: 0.5772 - accuracy: 0.7052\n",
            "Epoch 146/150\n",
            "39/39 [==============================] - 0s 4ms/step - loss: 0.5769 - accuracy: 0.7117\n",
            "Epoch 147/150\n",
            "39/39 [==============================] - 0s 4ms/step - loss: 0.5767 - accuracy: 0.7036\n",
            "Epoch 148/150\n",
            "39/39 [==============================] - 0s 4ms/step - loss: 0.5762 - accuracy: 0.7182\n",
            "Epoch 149/150\n",
            "39/39 [==============================] - 0s 4ms/step - loss: 0.5764 - accuracy: 0.7085\n",
            "Epoch 150/150\n",
            "39/39 [==============================] - 0s 4ms/step - loss: 0.5761 - accuracy: 0.7036\n"
          ]
        },
        {
          "output_type": "execute_result",
          "data": {
            "text/plain": [
              "<keras.callbacks.History at 0x7f0cbdaae7d0>"
            ]
          },
          "metadata": {},
          "execution_count": 60
        }
      ]
    },
    {
      "cell_type": "code",
      "source": [
        "test_loss, test_acc = model.evaluate(x_test, y_test , verbose=2)\n",
        "\n",
        "print('\\nTest accuracy:', test_acc)\n",
        "print('\\nTest Loss', test_loss)\n"
      ],
      "metadata": {
        "colab": {
          "base_uri": "https://localhost:8080/"
        },
        "id": "8UtU_5tSQ3dj",
        "outputId": "8bb6927b-0303-486c-d6d5-cb8c38006798"
      },
      "execution_count": null,
      "outputs": [
        {
          "output_type": "stream",
          "name": "stdout",
          "text": [
            "5/5 - 0s - loss: 0.6588 - accuracy: 0.6688 - 44ms/epoch - 9ms/step\n",
            "\n",
            "Test accuracy: 0.6688311696052551\n",
            "\n",
            "Test Loss 0.6587629318237305\n"
          ]
        }
      ]
    }
  ]
}