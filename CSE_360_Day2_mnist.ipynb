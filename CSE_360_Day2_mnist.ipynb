{
  "nbformat": 4,
  "nbformat_minor": 0,
  "metadata": {
    "colab": {
      "name": "CSE 360 - Day2 - mnist.ipynb",
      "provenance": []
    },
    "kernelspec": {
      "name": "python3",
      "display_name": "Python 3"
    },
    "language_info": {
      "name": "python"
    }
  },
  "cells": [
    {
      "cell_type": "code",
      "execution_count": 2,
      "metadata": {
        "id": "rYLHRJXfS5Qp"
      },
      "outputs": [],
      "source": [
        "import tensorflow as tf\n",
        "from tensorflow import keras\n",
        "from keras.datasets import mnist \n",
        "from keras.models import Sequential \n",
        "from keras.layers import Conv2D,MaxPool2D,Flatten,Dense,Dropout\n",
        "from keras.utils import np_utils"
      ]
    },
    {
      "cell_type": "code",
      "source": [
        "(X_train,y_train),(X_test,y_test) = mnist.load_data()"
      ],
      "metadata": {
        "id": "5ggUkMPQULW7"
      },
      "execution_count": 8,
      "outputs": []
    },
    {
      "cell_type": "code",
      "source": [
        "# building the input vector from \n",
        "X_train = X_train.reshape(X_train.shape[0],28,28,1)\n",
        "X_test = X_test.reshape(X_test.shape[0],28,28,1)\n",
        "X_train = X_train.astype('float32')\n",
        "X_test = X_test.astype('float32')\n"
      ],
      "metadata": {
        "id": "PcCpZOfzUdEx"
      },
      "execution_count": 9,
      "outputs": []
    },
    {
      "cell_type": "code",
      "source": [
        "X_train /=  255\n",
        "X_test /= 255"
      ],
      "metadata": {
        "id": "qtWSmSwvVFJ8"
      },
      "execution_count": 10,
      "outputs": []
    },
    {
      "cell_type": "code",
      "source": [
        "n_classes = 10\n",
        "print(\"Shape before one-hot encoding\",y_train.shape)\n",
        "y_train = np_utils.to_categorical(y_train,n_classes)\n",
        "y_test = np_utils.to_categorical(y_test,n_classes)\n",
        "print(\"Shape before one-hot encoding\",y_train.shape)"
      ],
      "metadata": {
        "colab": {
          "base_uri": "https://localhost:8080/"
        },
        "id": "htYL0N6RVO2y",
        "outputId": "11690627-2681-44a7-f59b-589459c0cb54"
      },
      "execution_count": 11,
      "outputs": [
        {
          "output_type": "stream",
          "name": "stdout",
          "text": [
            "Shape before one-hot encoding (60000,)\n",
            "Shape before one-hot encoding (60000, 10)\n"
          ]
        }
      ]
    },
    {
      "cell_type": "code",
      "source": [
        "model = Sequential()\n",
        "model.add(Conv2D(32,kernel_size = (3,3), padding = 'valid',activation =  'relu',input_shape = (28,28,1)))\n",
        "model.add(MaxPool2D(pool_size=(1,1)))\n",
        "model.add(Flatten())\n",
        "model.add(Dense(128,activation = 'relu'))\n",
        "model.add(Dense(10,activation='softmax'))"
      ],
      "metadata": {
        "id": "X55Wq9udWopZ"
      },
      "execution_count": 17,
      "outputs": []
    },
    {
      "cell_type": "code",
      "source": [
        "model.compile(optimizer='adam',loss = 'categorical_crossentropy',metrics = ['accuracy'])"
      ],
      "metadata": {
        "id": "DktqDAw5YEvJ"
      },
      "execution_count": 19,
      "outputs": []
    },
    {
      "cell_type": "code",
      "source": [
        "  model.fit(X_train,y_train,epochs = 10,batch_size = 128)"
      ],
      "metadata": {
        "colab": {
          "base_uri": "https://localhost:8080/"
        },
        "id": "s__DF84GYUtQ",
        "outputId": "6edbeeb6-a78e-4509-ed1e-029a0c4fba1d"
      },
      "execution_count": 23,
      "outputs": [
        {
          "output_type": "stream",
          "name": "stdout",
          "text": [
            "Epoch 1/10\n",
            "469/469 [==============================] - 49s 104ms/step - loss: 0.0141 - accuracy: 0.9957\n",
            "Epoch 2/10\n",
            "469/469 [==============================] - 49s 104ms/step - loss: 0.0082 - accuracy: 0.9976\n",
            "Epoch 3/10\n",
            "469/469 [==============================] - 49s 104ms/step - loss: 0.0059 - accuracy: 0.9983\n",
            "Epoch 4/10\n",
            "469/469 [==============================] - 49s 104ms/step - loss: 0.0065 - accuracy: 0.9980\n",
            "Epoch 5/10\n",
            "469/469 [==============================] - 49s 105ms/step - loss: 0.0056 - accuracy: 0.9983\n",
            "Epoch 6/10\n",
            "469/469 [==============================] - 49s 105ms/step - loss: 0.0025 - accuracy: 0.9994\n",
            "Epoch 7/10\n",
            "469/469 [==============================] - 49s 105ms/step - loss: 0.0029 - accuracy: 0.9992\n",
            "Epoch 8/10\n",
            "469/469 [==============================] - 49s 105ms/step - loss: 0.0047 - accuracy: 0.9986\n",
            "Epoch 9/10\n",
            "469/469 [==============================] - 49s 106ms/step - loss: 0.0029 - accuracy: 0.9990\n",
            "Epoch 10/10\n",
            "469/469 [==============================] - 49s 105ms/step - loss: 0.0056 - accuracy: 0.9981\n"
          ]
        },
        {
          "output_type": "execute_result",
          "data": {
            "text/plain": [
              "<keras.callbacks.History at 0x7fe090175fd0>"
            ]
          },
          "metadata": {},
          "execution_count": 23
        }
      ]
    },
    {
      "cell_type": "code",
      "source": [
        "model.summary()"
      ],
      "metadata": {
        "colab": {
          "base_uri": "https://localhost:8080/"
        },
        "id": "jPSooiYgbPXy",
        "outputId": "2a06d905-e3e4-4787-de1b-5371b24513e8"
      },
      "execution_count": 24,
      "outputs": [
        {
          "output_type": "stream",
          "name": "stdout",
          "text": [
            "Model: \"sequential_1\"\n",
            "_________________________________________________________________\n",
            " Layer (type)                Output Shape              Param #   \n",
            "=================================================================\n",
            " conv2d_1 (Conv2D)           (None, 26, 26, 32)        320       \n",
            "                                                                 \n",
            " max_pooling2d (MaxPooling2D  (None, 26, 26, 32)       0         \n",
            " )                                                               \n",
            "                                                                 \n",
            " flatten (Flatten)           (None, 21632)             0         \n",
            "                                                                 \n",
            " dense (Dense)               (None, 128)               2769024   \n",
            "                                                                 \n",
            " dense_1 (Dense)             (None, 10)                1290      \n",
            "                                                                 \n",
            "=================================================================\n",
            "Total params: 2,770,634\n",
            "Trainable params: 2,770,634\n",
            "Non-trainable params: 0\n",
            "_________________________________________________________________\n"
          ]
        }
      ]
    },
    {
      "cell_type": "code",
      "source": [
        "test_loss, test_acc = model.evaluate(X_train,  y_train, verbose=2)\n",
        "\n",
        "print('\\nTest accuracy:', test_acc)"
      ],
      "metadata": {
        "colab": {
          "base_uri": "https://localhost:8080/"
        },
        "id": "m_WXQoPObUg8",
        "outputId": "8476141e-0611-464e-bf52-0e0502e3f646"
      },
      "execution_count": 25,
      "outputs": [
        {
          "output_type": "stream",
          "name": "stdout",
          "text": [
            "1875/1875 - 14s - loss: 0.0093 - accuracy: 0.9968 - 14s/epoch - 8ms/step\n",
            "\n",
            "Test accuracy: 0.9968000054359436\n"
          ]
        }
      ]
    }
  ]
}